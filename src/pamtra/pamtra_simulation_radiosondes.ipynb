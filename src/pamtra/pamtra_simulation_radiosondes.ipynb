{
 "cells": [
  {
   "cell_type": "markdown",
   "metadata": {},
   "source": [
    "# PAMTRA simulations radiosondes\n",
    "Simulate radiosonde profiles of 2019 at four locations with PAMTRA for MWI bandpass effect estimation. Originally, an emissivity of 0.6 was assumed, because the default emissivity in PAMTRA was not changed. That value is much lower than the 0.85-0.9 in TESSEM2 for ocean surfaces at 183 GHz for conical scanners under vertical polarization like MWI. Changing the surface emissivity will change the spectral TB variation. The very low TB observed at the wings of the absorption line are about 50 K warmer compared to the simulations with an emissivity of 0.6. The previous script was completely integrated in here, and deleted to avoid confusion.\n",
    "\n",
    "- Input: Radiosonde data (txt files), frequency list (txt file)\n",
    "- Output: TB for radiosondes (one file with all angles and both polarization for completeness, one file with only V and upward radiance - V and H are the same anyway!)\n",
    "\n",
    "The smaller output file is copied to the home directory to be compatible with the down-stream tasks.\n",
    "\n",
    "Further Idea: run this for different emissivities and see how the surface emissivity influences the bandpass effect. It might be similar to what clouds do, except only for low IWV.\n",
    "\n",
    "Latest change: 2022-08-02"
   ]
  },
  {
   "cell_type": "code",
   "execution_count": null,
   "metadata": {},
   "outputs": [],
   "source": [
    "from __future__ import division\n",
    "import pyPamtra\n",
    "\n",
    "import sys\n",
    "import os\n",
    "\n",
    "import numpy as np\n",
    "import pandas as pd\n",
    "import xarray as xr\n",
    "\n",
    "import datetime\n",
    "from glob import glob\n",
    "from dotenv import load_dotenv\n",
    "\n",
    "from pamtra_tools import pam_to_xarray\n",
    "\n",
    "load_dotenv()"
   ]
  },
  {
   "cell_type": "code",
   "execution_count": null,
   "metadata": {},
   "outputs": [],
   "source": [
    "# find all radiosonde files\n",
    "files = glob(os.path.join(os.environ['PATH_ATM'], '2019/*/*/*.txt'))"
   ]
  },
  {
   "cell_type": "code",
   "execution_count": null,
   "metadata": {
    "scrolled": true
   },
   "outputs": [],
   "source": [
    "# ID for each radiosonde\n",
    "rsd_profiles = np.array([file[-25:-4] for file in files])\n",
    "lst_ds_pam = []  # store PAMTRA simulation corresponding the rsd_profile\n",
    "\n",
    "for i, file in enumerate(files):\n",
    "    \n",
    "    print(f'{i+1}/{len(files)} - {file}')\n",
    "    \n",
    "    # read radiosonde profile\n",
    "    df_rsd = pd.read_csv(file, comment='#')\n",
    "    df_rsd.drop(df_rsd[df_rsd['z [m]'] < 0].index, inplace=True)  # remove entries with negative height\n",
    "    df_rsd.dropna(axis='index', subset=['p [hPa]', 'z [m]', 'T [C]', 'RH [%]'], inplace=True)\n",
    "    \n",
    "    pam = pyPamtra.pyPamtra()\n",
    "\n",
    "    pam.nmlSet['creator'] = 'Nils Risse'\n",
    "\n",
    "    pam.nmlSet['active'] = False\n",
    "    pam.nmlSet['passive'] = True\n",
    "    pam.nmlSet['outpol'] = 'VH'\n",
    "    pam.set['freqs'] = np.loadtxt(os.path.join(\n",
    "        os.environ['PATH_BRT'], 'frequencies.txt')\n",
    "\n",
    "    pam.nmlSet['add_obs_height_to_layer'] = False  # not for satellite view\n",
    "\n",
    "    pam.nmlSet['gas_mod'] = 'R98'\n",
    "    pam.nmlSet['emissivity'] = 0.9\n",
    "    \n",
    "    # create pamtra profile based on radiosonde data\n",
    "    pam_profile = dict()\n",
    "    \n",
    "    pam_profile['ngridx'] = 1\n",
    "    pam_profile['ngridy'] = 1\n",
    "    \n",
    "    pam_profile['obs_height'] = np.array([[[833000]]])\n",
    "\n",
    "    # time (not important)\n",
    "    time = np.datetime64('2022-01-01').astype('datetime64[s]').astype('int')\n",
    "    pam_profile['timestamp'] = np.array([[time]])\n",
    "\n",
    "    # location (not important)\n",
    "    pam_profile['lat'] = np.array([[79]])\n",
    "    pam_profile['lon'] = np.array([[0]])\n",
    "\n",
    "    # physical properties (only groundtemp important for fixed emissivity)\n",
    "    pam_profile['groundtemp'] = np.array([[np.nan]])  # use lowest atmospheric temperature\n",
    "    pam_profile['sfc_salinity'] = np.array([[33]])\n",
    "    pam_profile['wind10u'] = np.array([[0]])\n",
    "    pam_profile['wind10v'] = np.array([[0]])\n",
    "    pam_profile['sfc_slf'] = np.array([[1]])\n",
    "    pam_profile['sfc_sif'] = np.array([[0]])\n",
    "    \n",
    "    # atmosphere\n",
    "    pam_profile[\"press\"] = df_rsd['p [hPa]'] * 100\n",
    "    pam_profile[\"hgt\"] = df_rsd['z [m]']\n",
    "    pam_profile[\"temp\"] = df_rsd['T [C]'] + 273.15\n",
    "    pam_profile[\"relhum\"] = df_rsd['RH [%]']\n",
    "    \n",
    "    # radiative transfer\n",
    "    pam_profile['sfc_type'] = np.array([[-1]])  # fixed emissivity\n",
    "    pam_profile['sfc_model'] = np.array([[-1]])  # not used, because emissivity fixed\n",
    "    pam_profile['sfc_refl'] = np.array([['S']])  # specular\n",
    "\n",
    "    pam.createProfile(**pam_profile)\n",
    "\n",
    "    pam.df.addHydrometeor(('ice', -99., -1, 917., 130., 3.0, 0.684, 2., 3, 1,\n",
    "                           'mono_cosmo_ice', -99., -99., -99., -99., -99., -99.,\n",
    "                           'mie-sphere', 'heymsfield10_particles', 0.0))\n",
    "    \n",
    "    pam.runParallelPamtra(pam.set['freqs'],\n",
    "                      pp_deltaX=1, \n",
    "                      pp_deltaY=1, \n",
    "                      pp_deltaF=10, \n",
    "                      pp_local_workers=\"auto\")\n",
    "    pam.addIntegratedValues()\n",
    "    \n",
    "    lst_ds_pam.append(pam_to_xarray(pam))\n",
    "\n",
    "ds_pam = xr.concat(\n",
    "    lst_ds_pam,\n",
    "    pd.Index(rsd_profiles, name='profile'))"
   ]
  },
  {
   "cell_type": "code",
   "execution_count": null,
   "metadata": {},
   "outputs": [],
   "source": [
    "# write result to file\n",
    "file_out = os.path.join(\n",
    "    os.environ['PATH_SIM'], \n",
    "    'TB_radiosondes_2019_complete.nc')\n",
    "ds_pam.to_netcdf(file_out)"
   ]
  },
  {
   "cell_type": "code",
   "execution_count": null,
   "metadata": {},
   "outputs": [],
   "source": [
    "# write result with reduced variables to file\n",
    "ds_pam_red = ds_pam.sel(grid_x=0, grid_y=0, direction='up', outlevel=0, polarization='V', hydro_class=0)\n",
    "file_out = os.path.join(\n",
    "    os.environ['PATH_BRT'],\n",
    "    'TB_radiosondes_2019.nc')\n",
    "ds_pam_red.to_netcdf(file_out)"
   ]
  }
 ],
 "metadata": {
  "kernelspec": {
   "display_name": "Python 3",
   "language": "python",
   "name": "python3"
  },
  "language_info": {
   "codemirror_mode": {
    "name": "ipython",
    "version": 3
   },
   "file_extension": ".py",
   "mimetype": "text/x-python",
   "name": "python",
   "nbconvert_exporter": "python",
   "pygments_lexer": "ipython3",
   "version": "3.8.10"
  }
 },
 "nbformat": 4,
 "nbformat_minor": 4
}
