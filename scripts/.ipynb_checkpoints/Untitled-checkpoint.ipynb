{
 "cells": [
  {
   "cell_type": "code",
   "execution_count": 1,
   "metadata": {},
   "outputs": [
    {
     "name": "stderr",
     "output_type": "stream",
     "text": [
      "/home/nrisse/lib/python/pyPamtra/meteoSI.py:19: Warning: numexpr not available\n",
      "  warnings.warn(\"numexpr not available\", Warning)\n",
      "/home/nrisse/lib/python/pyPamtra/importer.py:26: Warning: numexpr not available\n",
      "  warnings.warn(\"numexpr not available\", Warning)\n"
     ]
    }
   ],
   "source": [
    "from __future__ import division\n",
    "import pyPamtra\n",
    "import matplotlib.pyplot as plt\n",
    "import numpy as np\n",
    "%matplotlib inline"
   ]
  },
  {
   "cell_type": "code",
   "execution_count": 2,
   "metadata": {},
   "outputs": [],
   "source": [
    "pam = pyPamtra.pyPamtra()"
   ]
  },
  {
   "cell_type": "code",
   "execution_count": 3,
   "metadata": {},
   "outputs": [
    {
     "name": "stdout",
     "output_type": "stream",
     "text": [
      "Number of defined hydrometeors: 1\n"
     ]
    }
   ],
   "source": [
    "# definitions of hydrometeors (at least one has to be given)\n",
    "pam.df.addHydrometeor((\"ice\", -99., -1, 917., 130., 3.0, 0.684, 2., 3, 1, \n",
    "                       \"mono_cosmo_ice\", -99., -99., -99., -99., -99., -99., \n",
    "                       \"mie-sphere\", \"heymsfield10_particles\",0.0))\n",
    "\n",
    "print('Number of defined hydrometeors: {}'.format(pam.df.nhydro))\n",
    "\n",
    "# fill atmoshere based on US standard atmosphere\n",
    "pam = pyPamtra.importer.createUsStandardProfile(pam=pam,hgt_lev=heights)"
   ]
  },
  {
   "cell_type": "code",
   "execution_count": null,
   "metadata": {},
   "outputs": [],
   "source": [
    "# plot profile\n",
    "fig = plt.figure(figsize=[12,4])\n",
    "fig.add_axes([0.1,0.1,0.25,0.8])\n",
    "plt.plot(pam.p['press'][0,0,:]/100.,pam.p['hgt'][0,0,:])\n",
    "plt.ylabel('height [m]')\n",
    "plt.xlabel('pressure [hPa]')\n",
    "fig.add_axes([0.425,0.1,0.25,0.8])\n",
    "plt.plot(pam.p['temp'][0,0,:],pam.p['hgt'][0,0,:])\n",
    "plt.xlabel('temperature [K]')\n",
    "fig.add_axes([0.75,0.1,0.25,0.8])\n",
    "plt.plot(pam.p['relhum'][0,0,:],pam.p['hgt'][0,0,:])\n",
    "plt.xlabel('rel. humidity [%]')\n",
    "plt.show()"
   ]
  },
  {
   "cell_type": "code",
   "execution_count": null,
   "metadata": {},
   "outputs": [],
   "source": [
    "df = 0.015\n",
    "f_min = 183.31-12+0.007\n",
    "f_max = 183.31+12+0.007\n",
    "\n",
    "freqs = np.arange(f_min, f_max+df, df)  # 800 steps on each side of the line center \n",
    "\n",
    "pam.runParallelPamtra(freqs, pp_deltaX=1, pp_deltaY=1, pp_deltaF=1, pp_local_workers=\"auto\")"
   ]
  }
 ],
 "metadata": {
  "kernelspec": {
   "display_name": "Python 2",
   "language": "python",
   "name": "python2"
  },
  "language_info": {
   "codemirror_mode": {
    "name": "ipython",
    "version": 2
   },
   "file_extension": ".py",
   "mimetype": "text/x-python",
   "name": "python",
   "nbconvert_exporter": "python",
   "pygments_lexer": "ipython2",
   "version": "2.7.18rc1"
  }
 },
 "nbformat": 4,
 "nbformat_minor": 4
}
