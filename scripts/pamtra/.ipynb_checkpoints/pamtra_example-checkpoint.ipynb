{
 "cells": [
  {
   "cell_type": "code",
   "execution_count": null,
   "metadata": {},
   "outputs": [],
   "source": [
    "import pyPamtra"
   ]
  },
  {
   "cell_type": "code",
   "execution_count": null,
   "metadata": {},
   "outputs": [],
   "source": [
    "from __future__ import division\n",
    "import pyPamtra\n",
    "import matplotlib.pyplot as plt\n",
    "import numpy as np\n",
    "%matplotlib inline"
   ]
  },
  {
   "cell_type": "code",
   "execution_count": 2,
   "metadata": {},
   "outputs": [
    {
     "name": "stderr",
     "output_type": "stream",
     "text": [
      "/home/nrisse/lib/python/pyPamtra/core.py:821: Warning: timestamp set to now\n",
      "  warnings.warn(\"timestamp set to now\", Warning)\n",
      "/home/nrisse/lib/python/pyPamtra/core.py:838: Warning: lat set to 50.938056\n",
      "  warnings.warn(\"%s set to %s\"%(environment,preset,), Warning)\n",
      "/home/nrisse/lib/python/pyPamtra/core.py:838: Warning: lon set to 6.956944\n",
      "  warnings.warn(\"%s set to %s\"%(environment,preset,), Warning)\n",
      "/home/nrisse/lib/python/pyPamtra/core.py:838: Warning: wind10u set to 0\n",
      "  warnings.warn(\"%s set to %s\"%(environment,preset,), Warning)\n",
      "/home/nrisse/lib/python/pyPamtra/core.py:838: Warning: wind10v set to 0\n",
      "  warnings.warn(\"%s set to %s\"%(environment,preset,), Warning)\n",
      "/home/nrisse/lib/python/pyPamtra/core.py:838: Warning: groundtemp set to nan\n",
      "  warnings.warn(\"%s set to %s\"%(environment,preset,), Warning)\n",
      "/home/nrisse/lib/python/pyPamtra/core.py:838: Warning: sfc_salinity set to 33.0\n",
      "  warnings.warn(\"%s set to %s\"%(environment,preset,), Warning)\n",
      "/home/nrisse/lib/python/pyPamtra/core.py:838: Warning: sfc_slf set to 1.0\n",
      "  warnings.warn(\"%s set to %s\"%(environment,preset,), Warning)\n",
      "/home/nrisse/lib/python/pyPamtra/core.py:838: Warning: sfc_sif set to 0.0\n",
      "  warnings.warn(\"%s set to %s\"%(environment,preset,), Warning)\n",
      "/home/nrisse/lib/python/pyPamtra/core.py:848: Warning: sfc_type set to -9999\n",
      "  warnings.warn(\"%s set to %s\"%(environment,preset,), Warning)\n",
      "/home/nrisse/lib/python/pyPamtra/core.py:848: Warning: sfc_model set to -9999\n",
      "  warnings.warn(\"%s set to %s\"%(environment,preset,), Warning)\n",
      "/home/nrisse/lib/python/pyPamtra/core.py:859: Warning: sfc_refl set to S\n",
      "  warnings.warn(\"%s set to %s\"%(environment,preset,), Warning)\n",
      "/home/nrisse/lib/python/pyPamtra/core.py:871: Warning: obs_height set to [833000.0, 0.0]\n",
      "  warnings.warn(\"%s set to %s\"%(environment,preset,), Warning)\n",
      "/home/nrisse/lib/python/pyPamtra/core.py:881: Warning: hydro_q set to 0\n",
      "  warnings.warn(qValue + \" set to 0\", Warning)\n",
      "/home/nrisse/lib/python/pyPamtra/core.py:881: Warning: hydro_reff set to 0\n",
      "  warnings.warn(qValue + \" set to 0\", Warning)\n",
      "/home/nrisse/lib/python/pyPamtra/core.py:881: Warning: hydro_n set to 0\n",
      "  warnings.warn(qValue + \" set to 0\", Warning)\n",
      "/home/nrisse/lib/python/pyPamtra/core.py:892: Warning: airturb set to nan\n",
      "  warnings.warn(qValue + \" set to nan\", Warning)\n",
      "/home/nrisse/lib/python/pyPamtra/core.py:892: Warning: wind_w set to nan\n",
      "  warnings.warn(qValue + \" set to nan\", Warning)\n",
      "/home/nrisse/lib/python/pyPamtra/core.py:892: Warning: wind_uv set to nan\n",
      "  warnings.warn(qValue + \" set to nan\", Warning)\n",
      "/home/nrisse/lib/python/pyPamtra/core.py:892: Warning: turb_edr set to nan\n",
      "  warnings.warn(qValue + \" set to nan\", Warning)\n"
     ]
    }
   ],
   "source": [
    "pam = pyPamtra.pyPamtra()\n",
    "# add atleast one hydrometeor\n",
    "pam.df.addHydrometeor((\"ice\", -99., -1, 917., 130., 3.0, 0.684, 2., 3, 1, \"mono_cosmo_ice\", -99., -99., -99., -99., -99., -99., \"mie-sphere\", \"heymsfield10_particles\",0.0))\n",
    "# fill atmoshere based on US standard atmosphere\n",
    "heights = np.logspace(np.log10(0.1), np.log10(33000), 200, base=10)\n",
    "pam = pyPamtra.importer.createUsStandardProfile(pam=pam, hgt_lev=heights)"
   ]
  },
  {
   "cell_type": "code",
   "execution_count": 3,
   "metadata": {},
   "outputs": [
    {
     "data": {
      "image/png": "[encoded data removed]",
      "text/plain": [
       "<Figure size 864x288 with 3 Axes>"
      ]
     },
     "metadata": {
      "needs_background": "light"
     },
     "output_type": "display_data"
    }
   ],
   "source": [
    "# plot profile\n",
    "fig = plt.figure(figsize=[12,4])\n",
    "fig.add_axes([0.1,0.1,0.25,0.8])\n",
    "plt.plot(pam.p['press_lev'][0,0,:]/100.,pam.p['hgt_lev'][0,0,:])\n",
    "plt.ylabel('height [m]')\n",
    "plt.xlabel('pressure [hPa]')\n",
    "fig.add_axes([0.425,0.1,0.25,0.8])\n",
    "plt.plot(pam.p['temp_lev'][0,0,:],pam.p['hgt_lev'][0,0,:])\n",
    "plt.xlabel('temperature [K]')\n",
    "fig.add_axes([0.75,0.1,0.25,0.8])\n",
    "plt.plot(pam.p['relhum_lev'][0,0,:],pam.p['hgt_lev'][0,0,:])\n",
    "plt.xlabel('rel. humidity [%]')\n",
    "plt.show()"
   ]
  },
  {
   "cell_type": "code",
   "execution_count": null,
   "metadata": {},
   "outputs": [],
   "source": [
    "# write standard atmosphere to file\n",
    "fname = '/home/nrisse/uniHome/WHK/eumetsat/data/atmosphere/standard_atmosphere.txt'\n",
    "data = np.array([pam.p['hgt_lev'][0,0,:], \n",
    "                 pam.p['press_lev'][0,0,:]/100], \n",
    "                 pam.p['temp_lev'][0,0,:], \n",
    "                 pam.p['relhum_lev'][0,0,:]\n",
    "                ])\n",
    "np.savetxt(fname, data, sep=',', header='z [m], p [hPa], T [K], RH [%]')"
   ]
  },
  {
   "cell_type": "code",
   "execution_count": 8,
   "metadata": {},
   "outputs": [
    {
     "data": {
      "text/plain": [
       "['wind_uv',\n",
       " 'unixtime',\n",
       " 'turb_edr',\n",
       " 'nlyrs',\n",
       " 'press_lev',\n",
       " 'sfc_type',\n",
       " 'relhum_lev',\n",
       " 'obs_height',\n",
       " 'wind_w',\n",
       " 'sfc_slf',\n",
       " 'hgt',\n",
       " 'lon',\n",
       " 'ngridy',\n",
       " 'temp_lev',\n",
       " 'hydro_reff',\n",
       " 'radar_prop',\n",
       " 'wind10u',\n",
       " 'wind10v',\n",
       " 'model_i',\n",
       " 'model_j',\n",
       " 'sfc_refl',\n",
       " 'lat',\n",
       " 'ngridx',\n",
       " 'airturb',\n",
       " 'hgt_lev',\n",
       " 'hydro_q',\n",
       " 'sfc_model',\n",
       " 'sfc_salinity',\n",
       " 'max_nlyrs',\n",
       " 'noutlevels',\n",
       " 'sfc_sif',\n",
       " 'hydro_n',\n",
       " 'groundtemp']"
      ]
     },
     "execution_count": 8,
     "metadata": {},
     "output_type": "execute_result"
    }
   ],
   "source": [
    "pam.p.keys()"
   ]
  },
  {
   "cell_type": "code",
   "execution_count": 3,
   "metadata": {},
   "outputs": [],
   "source": [
    "df = 0.015\n",
    "f_min = 183.31-12+0.007\n",
    "f_max = 183.31+12+0.007\n",
    "\n",
    "freqs = np.arange(f_min, f_max+df, df)[:10]  # 800 steps on each side of the line center \n",
    "\n",
    "pam.runParallelPamtra(freqs, pp_deltaX=1, pp_deltaY=1, pp_deltaF=5, pp_local_workers=\"auto\")"
   ]
  },
  {
   "cell_type": "code",
   "execution_count": 4,
   "metadata": {},
   "outputs": [
    {
     "data": {
      "text/plain": [
       "{'active': True,\n",
       " 'add_obs_height_to_layer': False,\n",
       " 'conserve_mass_rescale_dsd': True,\n",
       " 'creator': 'Pamtrauser',\n",
       " 'data_path': '$PAMTRA_DATADIR',\n",
       " 'emissivity': 0.6,\n",
       " 'file_desc': '',\n",
       " 'gas_mod': 'R98',\n",
       " 'hydro_adaptive_grid': True,\n",
       " 'hydro_fullspec': False,\n",
       " 'hydro_includehydroinrhoair': True,\n",
       " 'hydro_limit_density_area': True,\n",
       " 'hydro_softsphere_min_density': 10.0,\n",
       " 'hydro_threshold': 1e-10,\n",
       " 'lgas_extinction': True,\n",
       " 'lhyd_absorption': True,\n",
       " 'lhyd_emission': True,\n",
       " 'lhyd_scattering': True,\n",
       " 'liblapack': True,\n",
       " 'liq_mod': 'TKC',\n",
       " 'outpol': 'VH',\n",
       " 'passive': True,\n",
       " 'radar_airmotion': False,\n",
       " 'radar_airmotion_linear_steps': 30,\n",
       " 'radar_airmotion_model': 'constant',\n",
       " 'radar_airmotion_step_vmin': 0.5,\n",
       " 'radar_airmotion_vmax': 4.0,\n",
       " 'radar_airmotion_vmin': -4.0,\n",
       " 'radar_aliasing_nyquist_interv': 1,\n",
       " 'radar_allow_negative_dD_dU': False,\n",
       " 'radar_attenuation': 'disabled',\n",
       " 'radar_convolution_fft': True,\n",
       " 'radar_fwhr_beamwidth_deg': 0.31,\n",
       " 'radar_integration_time': 1.4,\n",
       " 'radar_k2': 0.93,\n",
       " 'radar_max_v': 7.885,\n",
       " 'radar_min_v': -7.885,\n",
       " 'radar_mode': 'simple',\n",
       " 'radar_nfft': 256,\n",
       " 'radar_no_ave': 150,\n",
       " 'radar_noise_distance_factor': 2.0,\n",
       " 'radar_npeaks': 1,\n",
       " 'radar_peak_min_bins': 2,\n",
       " 'radar_peak_min_snr': -10,\n",
       " 'radar_peak_snr_definition': 'log',\n",
       " 'radar_pnoise0': -32.23,\n",
       " 'radar_polarisation': 'NN',\n",
       " 'radar_receiver_miscalibration': 0.0,\n",
       " 'radar_receiver_uncertainty_std': 0.0,\n",
       " 'radar_save_noise_corrected_spectra': False,\n",
       " 'radar_smooth_spectrum': True,\n",
       " 'radar_use_hildebrand': False,\n",
       " 'radar_use_wider_peak': False,\n",
       " 'randomseed': 0,\n",
       " 'save_psd': False,\n",
       " 'save_ssp': False,\n",
       " 'tmatrix_db': 'none',\n",
       " 'tmatrix_db_path': 'database/',\n",
       " 'write_nc': True}"
      ]
     },
     "execution_count": 4,
     "metadata": {},
     "output_type": "execute_result"
    }
   ],
   "source": [
    "pam.nmlSet"
   ]
  },
  {
   "cell_type": "code",
   "execution_count": 5,
   "metadata": {},
   "outputs": [
    {
     "data": {
      "text/plain": [
       "{'att_npol': 1,\n",
       " 'att_pol': ['N'],\n",
       " 'freqs': array([ 171.317,  171.332,  171.347,  171.362,  171.377,  171.392,\n",
       "         171.407,  171.422,  171.437,  171.452]),\n",
       " 'namelist_file': 'TMPFILE',\n",
       " 'nfreqs': 10,\n",
       " 'pyVerbose': 0,\n",
       " 'radar_npol': 1,\n",
       " 'radar_pol': ['NN'],\n",
       " 'verbose': 0}"
      ]
     },
     "execution_count": 5,
     "metadata": {},
     "output_type": "execute_result"
    }
   ],
   "source": [
    "pam.set"
   ]
  },
  {
   "cell_type": "code",
   "execution_count": 9,
   "metadata": {},
   "outputs": [
    {
     "data": {
      "text/plain": [
       "array([[[ 833000.,       0.]]])"
      ]
     },
     "execution_count": 9,
     "metadata": {},
     "output_type": "execute_result"
    }
   ],
   "source": [
    "pam.p['obs_height']"
   ]
  },
  {
   "cell_type": "code",
   "execution_count": null,
   "metadata": {},
   "outputs": [],
   "source": [
    "pam.p['groundtemp']"
   ]
  },
  {
   "cell_type": "code",
   "execution_count": null,
   "metadata": {},
   "outputs": [],
   "source": []
  }
 ],
 "metadata": {
  "kernelspec": {
   "display_name": "Python 2",
   "language": "python",
   "name": "python2"
  },
  "language_info": {
   "codemirror_mode": {
    "name": "ipython",
    "version": 2
   },
   "file_extension": ".py",
   "mimetype": "text/x-python",
   "name": "python",
   "nbconvert_exporter": "python",
   "pygments_lexer": "ipython2",
   "version": "2.7.18rc1"
  }
 },
 "nbformat": 4,
 "nbformat_minor": 4
}
